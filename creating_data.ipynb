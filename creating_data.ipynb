{
 "cells": [
  {
   "cell_type": "markdown",
   "metadata": {},
   "source": [
    "## Splitting into Train and Val"
   ]
  },
  {
   "cell_type": "code",
   "execution_count": 11,
   "metadata": {},
   "outputs": [],
   "source": [
    "from __future__ import print_function\n",
    "import json\n",
    "import numpy as np\n",
    "import matplotlib.pyplot as plt\n",
    "\n",
    "from PIL import Image"
   ]
  },
  {
   "cell_type": "markdown",
   "metadata": {},
   "source": [
    "import zipfile as zf\n",
    "files = zf.ZipFile(\"validation.zip\", 'r')\n",
    "files.extractall('data')\n",
    "files.close()"
   ]
  },
  {
   "cell_type": "code",
   "execution_count": 12,
   "metadata": {},
   "outputs": [
    {
     "data": {
      "text/plain": [
       "'/Users/michalgolovanevsky/SeniorProject'"
      ]
     },
     "execution_count": 12,
     "metadata": {},
     "output_type": "execute_result"
    }
   ],
   "source": [
    "import os\n",
    "base_path = os.getcwd()\n",
    "base_path"
   ]
  },
  {
   "cell_type": "markdown",
   "metadata": {},
   "source": [
    "image_path = os.path.join(base_path, \"data/images\") \n",
    "images = os.listdir(image_path)"
   ]
  },
  {
   "cell_type": "markdown",
   "metadata": {},
   "source": [
    "label_path = os.path.join(base_path, \"data/labels\") \n",
    "labels = os.listdir(label_path)"
   ]
  },
  {
   "cell_type": "markdown",
   "metadata": {},
   "source": [
    "test_path = os.path.join(base_path, \"data/test\")\n",
    "train_path = os.path.join(base_path, \"data/train\")"
   ]
  },
  {
   "cell_type": "markdown",
   "metadata": {},
   "source": [
    "os.makedirs(test_path)\n",
    "os.makedirs(train_path)"
   ]
  },
  {
   "cell_type": "markdown",
   "metadata": {},
   "source": [
    "import random\n",
    "import shutil\n",
    "\n",
    "files_to_move = random.sample(images, int(0.1*len(images)))\n",
    "for _f in files_to_move:\n",
    "    origin_path = os.path.join(image_path, _f)\n",
    "    dest_dir = os.path.join(test_path, \"images\")\n",
    "    dest_path = os.path.join(dest_dir, _f)\n",
    "    if not os.path.isdir(dest_dir):\n",
    "        os.makedirs(dest_dir)\n",
    "    shutil.move(origin_path, dest_path)"
   ]
  },
  {
   "cell_type": "markdown",
   "metadata": {},
   "source": [
    "files_to_move = random.sample(labels, int(0.1*len(labels)))\n",
    "for _f in files_to_move:\n",
    "    origin_path = os.path.join(label_path, _f)\n",
    "    dest_dir = os.path.join(test_path, \"labels\")\n",
    "    dest_path = os.path.join(dest_dir, _f)\n",
    "    if not os.path.isdir(dest_dir):\n",
    "        os.makedirs(dest_dir)\n",
    "    shutil.move(origin_path, dest_path)"
   ]
  },
  {
   "cell_type": "markdown",
   "metadata": {},
   "source": [
    "shutil.move(label_path, train_path)\n",
    "shutil.move(image_path, train_path)"
   ]
  },
  {
   "cell_type": "code",
   "execution_count": 13,
   "metadata": {},
   "outputs": [
    {
     "name": "stdout",
     "output_type": "stream",
     "text": [
      "There are 66 labels in the config file\n"
     ]
    }
   ],
   "source": [
    "with open('config.json') as config_file:\n",
    "    config = json.load(config_file)\n",
    "# in this example we are only interested in the labels\n",
    "labels = config['labels']\n",
    "\n",
    "# print labels\n",
    "print(\"There are {} labels in the config file\".format(len(labels)))\n",
    "labels_dict = {}\n",
    "for label_id, label in enumerate(labels):\n",
    "    labels_dict[label[\"name\"]] = label[\"color\"]"
   ]
  },
  {
   "cell_type": "code",
   "execution_count": 14,
   "metadata": {},
   "outputs": [],
   "source": [
    "train_image_path = os.path.join(base_path, \"data/train/images\")\n",
    "train_label_path = os.path.join(base_path, \"data/train/labels\")"
   ]
  },
  {
   "cell_type": "code",
   "execution_count": 87,
   "metadata": {},
   "outputs": [],
   "source": [
    "train_images = os.listdir(train_image_path)\n",
    "train_labels = os.listdir(train_label_path)"
   ]
  },
  {
   "cell_type": "code",
   "execution_count": 16,
   "metadata": {},
   "outputs": [],
   "source": [
    "train_images.sort()\n",
    "train_labels.sort()"
   ]
  },
  {
   "cell_type": "code",
   "execution_count": 76,
   "metadata": {},
   "outputs": [],
   "source": [
    "train_images_names = []\n",
    "for image in train_images:\n",
    "    image = image.replace(\".jpg\", \"\")\n",
    "    train_images_names.append(image)"
   ]
  },
  {
   "cell_type": "code",
   "execution_count": 77,
   "metadata": {},
   "outputs": [],
   "source": [
    "train_labels_names = []\n",
    "for label in train_labels:\n",
    "    label = label.replace(\".png\", \"\")\n",
    "    train_labels_names.append(label)"
   ]
  },
  {
   "cell_type": "code",
   "execution_count": 69,
   "metadata": {},
   "outputs": [],
   "source": [
    "dif1 = list(set(train_labels_names) - set(train_images_names))"
   ]
  },
  {
   "cell_type": "code",
   "execution_count": 94,
   "metadata": {},
   "outputs": [
    {
     "data": {
      "text/plain": [
       "186"
      ]
     },
     "execution_count": 94,
     "metadata": {},
     "output_type": "execute_result"
    }
   ],
   "source": [
    "bad_files = []\n",
    "for file in dif1:\n",
    "    file += \".png\"\n",
    "    bad_files.append(file)\n",
    "len(bad_files)"
   ]
  },
  {
   "cell_type": "code",
   "execution_count": 96,
   "metadata": {},
   "outputs": [],
   "source": [
    "train_labels = list(set(train_labels) - set(bad_files))"
   ]
  },
  {
   "cell_type": "code",
   "execution_count": 20,
   "metadata": {},
   "outputs": [],
   "source": [
    "def apply_color_map(image_array, labels):\n",
    "    color_array = np.zeros((image_array.shape[0], image_array.shape[1], 3), dtype=np.uint8)\n",
    "\n",
    "    for label_id, label in enumerate(labels):\n",
    "        # set all pixels with the current label to the color of the current label\n",
    "        color_array[image_array == label_id] = label[\"color\"]\n",
    "\n",
    "    return color_array"
   ]
  },
  {
   "cell_type": "code",
   "execution_count": 97,
   "metadata": {},
   "outputs": [],
   "source": [
    "rows = []\n",
    "for label in train_labels[:200]:\n",
    "    label_path = os.path.join(train_label_path, label)\n",
    "    instance_path = os.path.join(train_label_path, label)\n",
    "    panoptic_path = os.path.join(train_label_path, label)\n",
    "    label_image = Image.open(label_path)\n",
    "    instance_image = Image.open(instance_path)\n",
    "    panoptic_image = Image.open(panoptic_path)\n",
    "    \n",
    "    # convert labeled data to numpy arrays for better handling\n",
    "    label_array = np.array(label_image, dtype=np.uint16)\n",
    "    instance_array = np.array(instance_image, dtype=np.uint16)\n",
    "\n",
    "    # now we split the instance_array into labels and instance ids\n",
    "    instance_label_array = np.array(instance_array / 256, dtype=np.uint8)\n",
    "    instance_ids_array = np.array(instance_array % 256, dtype=np.uint8)\n",
    "\n",
    "    # for visualization, we apply the colors stored in the config\n",
    "    colored_label_array = apply_color_map(label_array, labels)\n",
    "    colored_instance_label_array = apply_color_map(instance_label_array, labels)\n",
    "    colors = []\n",
    "    for i in range(colored_label_array.shape[0]):\n",
    "        array = np.unique(colored_label_array[i], axis = 0)\n",
    "        if list(array[0]) not in colors:\n",
    "            colors.append(list(array[0]))\n",
    "    items_in_photo = []\n",
    "    for item in labels_dict:\n",
    "        color = labels_dict[item]\n",
    "        if color in colors:\n",
    "            items_in_photo.append(1)\n",
    "        else:\n",
    "            items_in_photo.append(0)\n",
    "    rows.append(items_in_photo)"
   ]
  },
  {
   "cell_type": "code",
   "execution_count": 98,
   "metadata": {},
   "outputs": [],
   "source": [
    "import pandas as pd\n",
    "label_columns = list(labels_dict.keys())\n",
    "df = pd.DataFrame(rows, columns = label_columns)"
   ]
  },
  {
   "cell_type": "code",
   "execution_count": 99,
   "metadata": {},
   "outputs": [],
   "source": [
    "df[\"image\"] = train_labels[:200]"
   ]
  },
  {
   "cell_type": "code",
   "execution_count": 100,
   "metadata": {},
   "outputs": [],
   "source": [
    "label_columns.insert(0, \"image\")"
   ]
  },
  {
   "cell_type": "code",
   "execution_count": 101,
   "metadata": {},
   "outputs": [],
   "source": [
    "df = df[label_columns]\n",
    "df[\"image\"] = df[\"image\"].str.replace(\"png\", \"jpg\")"
   ]
  },
  {
   "cell_type": "code",
   "execution_count": 103,
   "metadata": {},
   "outputs": [],
   "source": [
    "df.to_csv(\"image_data.csv\", index = False)"
   ]
  },
  {
   "cell_type": "code",
   "execution_count": null,
   "metadata": {},
   "outputs": [],
   "source": []
  }
 ],
 "metadata": {
  "kernelspec": {
   "display_name": "Python 3",
   "language": "python",
   "name": "python3"
  },
  "language_info": {
   "codemirror_mode": {
    "name": "ipython",
    "version": 3
   },
   "file_extension": ".py",
   "mimetype": "text/x-python",
   "name": "python",
   "nbconvert_exporter": "python",
   "pygments_lexer": "ipython3",
   "version": "3.7.3"
  }
 },
 "nbformat": 4,
 "nbformat_minor": 4
}
